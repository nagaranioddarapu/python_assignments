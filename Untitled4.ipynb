{
 "cells": [
  {
   "cell_type": "code",
   "execution_count": 58,
   "id": "07801369",
   "metadata": {},
   "outputs": [
    {
     "data": {
      "text/plain": [
       "'Santhanam, Jayendhran <jayendhran.ms@accenture.com>;\\n Bhattacharjee, Sankalan <s.t.bhattacharjee@accenture.com>;\\n Bansal, Vaishnavi <vaishnavi.a.bansal@accenture.com>;\\n Chandra Shekhar, Pavuluri <p.a.chandra.shekhar@accenture.com>;\\n J Doshi, Hiren <hiren.j.doshi@accenture.com>;\\n Shimoga Prakash, Jeevan <j.shimoga.prakash@accenture.com>;\\n Akhouri, Shreyash <shreyash.akhouri@accenture.com>; \\nNath, Nupanga <nupanga.nath@accenture.com>;\\n Ponna, Ramesh <r.ponna@accenture.com>;\\n Singhal, Aditya <aditya.d.singhal@accenture.com>;\\n Gorai, Sumit <sumit.gorai@accenture.com>;\\n Valdez, Mariele Dyan Francely <mariele.dyan.valdez@accenture.com>;\\n Cancel, Abigail Kyle <abigail.kyle.cancel@accenture.com>;\\n BONDALAKUNTA, POOJITHA <p.bondalakunta@accenture.com>;\\n priyanka uppala, sai <sai.priyanka.uppala@accenture.com>;\\n Nitin SHINDE, NIKHIL <nikhil.nitin.shinde@accenture.com>;\\n Chidre, Swapna <swapna.chidre@accenture.com>;\\n Sahu, Swastik <s.satyapragyan.sahu@accenture.com>;\\n Sikka, Ankit <ankit.sikka@accenture.com>;\\n Dara, Sai Madhukar <sai.madhukar.dara@accenture.com>;\\n Pattanshetti, Sampreet <s.pattanshetti@accenture.com>;\\n Sharma, Ayush <ayush.ad.sharma@accenture.com>; \\nLatorena, Zairous Jay <zairous.jay.latorena@accenture.com>;\\n Abhimanyu Pradhan, Roshankumar <r.abhimanyu.pradhan@accenture.com>;\\n Jaiswal, Lehar <lehar.jaiswal@accenture.com>;\\n Gupta, Retik <retik.gupta@accenture.com>;\\n Satti, Phanindra Reddy <phanindra.r.satti@accenture.com>;\\n Kumar, Manish <manish.dw.kumar@accenture.com>; \\nBalakrishnan, Devi Priya <devi.p.balakrishnan@accenture.com>;\\n M S, Roshni Priya <roshni.priya.m.s@accenture.com>;\\n Cheerala, Vanaja <vanaja.cheerala@accenture.com>;\\n G D, Chandrashekhar <chandrashekhar.g.d@accenture.com>;\\n Nikhil Reddy, Madithati <m.nikhil.reddy@accenture.com>; \\nSantos, Jeroshelle V. <jeroshelle.v.santos@accenture.com>;\\n Milan, Gerald John <gerald.john.milan@accenture.com>;\\n Gupta, Vivek <vivek.u.gupta@accenture.com>;\\n Mandal, Sumit <s.sunilkumar.mandal@accenture.com>;\\n Prakash Shukla, Ashok <ashok.prakash.shukla@accenture.com>;\\n Naganathan, Siva <sivakumar.naganathan@accenture.com>;\\n GAHLOT, NIKHIL <nikhil.gahlot@accenture.com>;\\n Kanjilal, Sourav <s.a.kanti.kanjilal@accenture.com>; \\nNallagoni, Omkar <omkar.nallagoni@accenture.com>; \\nSahajan, Sandra <sandra.sahajan@accenture.com>; \\nNelluri, Chaitanya <chaitanya.nelluri@accenture.com>'"
      ]
     },
     "execution_count": 58,
     "metadata": {},
     "output_type": "execute_result"
    }
   ],
   "source": [
    "# reading the emails contain file \n",
    "filepath=r'emails.txt'\n",
    "file=open(email_filepath,encoding='utf-8-sig')\n",
    "file.read()\n",
    "\n"
   ]
  },
  {
   "cell_type": "code",
   "execution_count": 76,
   "id": "c0d1c08c",
   "metadata": {},
   "outputs": [
    {
     "name": "stdout",
     "output_type": "stream",
     "text": [
      "['Santhanam, Jayendhran <jayendhran.ms@accenture.com>;', ' Bhattacharjee, Sankalan <s.t.bhattacharjee@accenture.com>;', ' Bansal, Vaishnavi <vaishnavi.a.bansal@accenture.com>;', ' Chandra Shekhar, Pavuluri <p.a.chandra.shekhar@accenture.com>;', ' J Doshi, Hiren <hiren.j.doshi@accenture.com>;', ' Shimoga Prakash, Jeevan <j.shimoga.prakash@accenture.com>;', ' Akhouri, Shreyash <shreyash.akhouri@accenture.com>; ', 'Nath, Nupanga <nupanga.nath@accenture.com>;', ' Ponna, Ramesh <r.ponna@accenture.com>;', ' Singhal, Aditya <aditya.d.singhal@accenture.com>;', ' Gorai, Sumit <sumit.gorai@accenture.com>;', ' Valdez, Mariele Dyan Francely <mariele.dyan.valdez@accenture.com>;', ' Cancel, Abigail Kyle <abigail.kyle.cancel@accenture.com>;', ' BONDALAKUNTA, POOJITHA <p.bondalakunta@accenture.com>;', ' priyanka uppala, sai <sai.priyanka.uppala@accenture.com>;', ' Nitin SHINDE, NIKHIL <nikhil.nitin.shinde@accenture.com>;', ' Chidre, Swapna <swapna.chidre@accenture.com>;', ' Sahu, Swastik <s.satyapragyan.sahu@accenture.com>;', ' Sikka, Ankit <ankit.sikka@accenture.com>;', ' Dara, Sai Madhukar <sai.madhukar.dara@accenture.com>;', ' Pattanshetti, Sampreet <s.pattanshetti@accenture.com>;', ' Sharma, Ayush <ayush.ad.sharma@accenture.com>; ', 'Latorena, Zairous Jay <zairous.jay.latorena@accenture.com>;', ' Abhimanyu Pradhan, Roshankumar <r.abhimanyu.pradhan@accenture.com>;', ' Jaiswal, Lehar <lehar.jaiswal@accenture.com>;', ' Gupta, Retik <retik.gupta@accenture.com>;', ' Satti, Phanindra Reddy <phanindra.r.satti@accenture.com>;', ' Kumar, Manish <manish.dw.kumar@accenture.com>; ', 'Balakrishnan, Devi Priya <devi.p.balakrishnan@accenture.com>;', ' M S, Roshni Priya <roshni.priya.m.s@accenture.com>;', ' Cheerala, Vanaja <vanaja.cheerala@accenture.com>;', ' G D, Chandrashekhar <chandrashekhar.g.d@accenture.com>;', ' Nikhil Reddy, Madithati <m.nikhil.reddy@accenture.com>; ', 'Santos, Jeroshelle V. <jeroshelle.v.santos@accenture.com>;', ' Milan, Gerald John <gerald.john.milan@accenture.com>;', ' Gupta, Vivek <vivek.u.gupta@accenture.com>;', ' Mandal, Sumit <s.sunilkumar.mandal@accenture.com>;', ' Prakash Shukla, Ashok <ashok.prakash.shukla@accenture.com>;', ' Naganathan, Siva <sivakumar.naganathan@accenture.com>;', ' GAHLOT, NIKHIL <nikhil.gahlot@accenture.com>;', ' Kanjilal, Sourav <s.a.kanti.kanjilal@accenture.com>; ', 'Nallagoni, Omkar <omkar.nallagoni@accenture.com>; ', 'Sahajan, Sandra <sandra.sahajan@accenture.com>; ', 'Nelluri, Chaitanya <chaitanya.nelluri@accenture.com>']\n"
     ]
    }
   ],
   "source": [
    "# reading the emails contain file \n",
    "filepath=r'emails.txt'\n",
    "file=open(email_filepath,encoding='utf-8-sig')\n",
    "l1=[word.rstrip('\\n') for word in file]\n",
    "print(l1)\n",
    "\n",
    "\n",
    "\n"
   ]
  },
  {
   "cell_type": "code",
   "execution_count": null,
   "id": "476ba789",
   "metadata": {},
   "outputs": [],
   "source": []
  }
 ],
 "metadata": {
  "kernelspec": {
   "display_name": "Python 3 (ipykernel)",
   "language": "python",
   "name": "python3"
  },
  "language_info": {
   "codemirror_mode": {
    "name": "ipython",
    "version": 3
   },
   "file_extension": ".py",
   "mimetype": "text/x-python",
   "name": "python",
   "nbconvert_exporter": "python",
   "pygments_lexer": "ipython3",
   "version": "3.11.5"
  }
 },
 "nbformat": 4,
 "nbformat_minor": 5
}
