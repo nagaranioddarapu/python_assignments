{
 "cells": [
  {
   "cell_type": "markdown",
   "id": "428428fb",
   "metadata": {},
   "source": [
    "joing multiple print stetements"
   ]
  },
  {
   "cell_type": "code",
   "execution_count": 3,
   "id": "b1863de0",
   "metadata": {},
   "outputs": [
    {
     "name": "stdout",
     "output_type": "stream",
     "text": [
      "the addition of 20 and 40 is 60\n"
     ]
    }
   ],
   "source": [
    "num1=20\n",
    "num2=40\n",
    "add=num1+num2\n",
    "print('the addition of',num1,'and',num2,'is',add)\n"
   ]
  },
  {
   "cell_type": "code",
   "execution_count": 4,
   "id": "a9ca07fa",
   "metadata": {
    "scrolled": true
   },
   "outputs": [
    {
     "name": "stdout",
     "output_type": "stream",
     "text": [
      "my name is python ,i came from hyd and iam 10 years old\n"
     ]
    }
   ],
   "source": [
    "num1='python'\n",
    "num2='hyd'\n",
    "num3=10\n",
    "print(\"my name is\",num1,\",\"\"i came from\",num2,\"and iam\",num3,\"years old\")"
   ]
  },
  {
   "cell_type": "code",
   "execution_count": 6,
   "id": "7996a411",
   "metadata": {},
   "outputs": [
    {
     "name": "stdout",
     "output_type": "stream",
     "text": [
      "my name is python  iam from hyd iam 3 years old \n"
     ]
    }
   ],
   "source": [
    "num1='python'\n",
    "num2='hyd'\n",
    "num3=3\n",
    "print(\"my name is {}  iam from {} iam {} years old \".format(num1,num2,num3))"
   ]
  },
  {
   "cell_type": "code",
   "execution_count": 7,
   "id": "b4c34884",
   "metadata": {},
   "outputs": [
    {
     "name": "stdout",
     "output_type": "stream",
     "text": [
      "the addition of 400 and 200 is 600\n"
     ]
    },
    {
     "ename": "NameError",
     "evalue": "name 'al2' is not defined",
     "output_type": "error",
     "traceback": [
      "\u001b[1;31m---------------------------------------------------------------------------\u001b[0m",
      "\u001b[1;31mNameError\u001b[0m                                 Traceback (most recent call last)",
      "Cell \u001b[1;32mIn[7], line 8\u001b[0m\n\u001b[0;32m      6\u001b[0m div\u001b[38;5;241m=\u001b[39m\u001b[38;5;28mround\u001b[39m(val1\u001b[38;5;241m/\u001b[39mval2,\u001b[38;5;241m2\u001b[39m)\n\u001b[0;32m      7\u001b[0m \u001b[38;5;28mprint\u001b[39m(\u001b[38;5;124m'\u001b[39m\u001b[38;5;124mthe addition of \u001b[39m\u001b[38;5;132;01m{}\u001b[39;00m\u001b[38;5;124m and \u001b[39m\u001b[38;5;132;01m{}\u001b[39;00m\u001b[38;5;124m is \u001b[39m\u001b[38;5;132;01m{}\u001b[39;00m\u001b[38;5;124m'\u001b[39m\u001b[38;5;241m.\u001b[39mformat(val1,val2,add))\n\u001b[1;32m----> 8\u001b[0m \u001b[38;5;28mprint\u001b[39m(\u001b[38;5;124m'\u001b[39m\u001b[38;5;124mthe subtraction of \u001b[39m\u001b[38;5;132;01m{}\u001b[39;00m\u001b[38;5;124m and \u001b[39m\u001b[38;5;132;01m{}\u001b[39;00m\u001b[38;5;124m is\u001b[39m\u001b[38;5;124m'\u001b[39m\u001b[38;5;241m.\u001b[39mformat(val1,al2,sub))\n",
      "\u001b[1;31mNameError\u001b[0m: name 'al2' is not defined"
     ]
    }
   ],
   "source": [
    "val1=400\n",
    "val2=200\n",
    "add=val1+val2\n",
    "sub=val1-val2\n",
    "mul=val1*val2\n",
    "div=round(val1/val2,2)\n",
    "print('the addition of {} and {} is {}'.format(val1,val2,add))\n",
    "print('the subtraction of {} and {} is'.format(val1,al2,sub))"
   ]
  },
  {
   "cell_type": "code",
   "execution_count": null,
   "id": "dcf2eed3",
   "metadata": {},
   "outputs": [],
   "source": [
    "input()\n",
    "\n",
    "20\n"
   ]
  },
  {
   "cell_type": "code",
   "execution_count": 1,
   "id": "6108eb1c",
   "metadata": {},
   "outputs": [
    {
     "name": "stdout",
     "output_type": "stream",
     "text": [
      "what is Afor: 20\n"
     ]
    },
    {
     "data": {
      "text/plain": [
       "'20'"
      ]
     },
     "execution_count": 1,
     "metadata": {},
     "output_type": "execute_result"
    }
   ],
   "source": [
    "input(\"what is Afor: \") \n",
    "\n"
   ]
  },
  {
   "cell_type": "code",
   "execution_count": 2,
   "id": "530338ec",
   "metadata": {},
   "outputs": [
    {
     "name": "stdout",
     "output_type": "stream",
     "text": [
      "200\n"
     ]
    },
    {
     "data": {
      "text/plain": [
       "'200'"
      ]
     },
     "execution_count": 2,
     "metadata": {},
     "output_type": "execute_result"
    }
   ],
   "source": [
    "input()"
   ]
  },
  {
   "cell_type": "code",
   "execution_count": null,
   "id": "721fabc5",
   "metadata": {},
   "outputs": [],
   "source": [
    "input()"
   ]
  },
  {
   "cell_type": "code",
   "execution_count": null,
   "id": "6e21e33f",
   "metadata": {},
   "outputs": [],
   "source": [
    "input()\n"
   ]
  },
  {
   "cell_type": "code",
   "execution_count": null,
   "id": "bbc3f83f",
   "metadata": {},
   "outputs": [],
   "source": []
  }
 ],
 "metadata": {
  "kernelspec": {
   "display_name": "Python 3 (ipykernel)",
   "language": "python",
   "name": "python3"
  },
  "language_info": {
   "codemirror_mode": {
    "name": "ipython",
    "version": 3
   },
   "file_extension": ".py",
   "mimetype": "text/x-python",
   "name": "python",
   "nbconvert_exporter": "python",
   "pygments_lexer": "ipython3",
   "version": "3.11.5"
  }
 },
 "nbformat": 4,
 "nbformat_minor": 5
}
